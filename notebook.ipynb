{
 "cells": [
  {
   "cell_type": "markdown",
   "id": "4c121be2",
   "metadata": {},
   "source": [
    "# Classification of Nigerian Traditional Attire\n",
    "### Step 1: Collection and Organization of the dataset\n",
    "\n",
    "### Step 2: Spliting the dataset into training and validation set"
   ]
  },
  {
   "cell_type": "code",
   "execution_count": 1,
   "id": "0919b953",
   "metadata": {},
   "outputs": [
    {
     "name": "stdout",
     "output_type": "stream",
     "text": [
      "✅ Dataset split completed!\n"
     ]
    }
   ],
   "source": [
    "import os\n",
    "import random\n",
    "import shutil\n",
    "\n",
    "def split_dataset(source_dir, dest_dir, split_ratio=0.8):\n",
    "    classes = os.listdir(source_dir)\n",
    "    \n",
    "    for cls in classes:\n",
    "        cls_path = os.path.join(source_dir, cls)\n",
    "        if not os.path.isdir(cls_path):\n",
    "            continue\n",
    "\n",
    "        images = [img for img in os.listdir(cls_path) if img.endswith(('.jpg', '.jpeg', '.png'))]\n",
    "        random.shuffle(images)\n",
    "\n",
    "        split_point = int(len(images) * split_ratio)\n",
    "        train_imgs = images[:split_point]\n",
    "        val_imgs = images[split_point:]\n",
    "\n",
    "        for phase in ['train', 'val']:\n",
    "            dest_cls_dir = os.path.join(dest_dir, phase, cls)\n",
    "            os.makedirs(dest_cls_dir, exist_ok=True)\n",
    "\n",
    "        # Copy images\n",
    "        for img in train_imgs:\n",
    "            shutil.copy(os.path.join(cls_path, img), os.path.join(dest_dir, 'train', cls, img))\n",
    "        for img in val_imgs:\n",
    "            shutil.copy(os.path.join(cls_path, img), os.path.join(dest_dir, 'val', cls, img))\n",
    "\n",
    "    print(\"✅ Dataset split completed!\")\n",
    "\n",
    "# Usage\n",
    "split_dataset('nigerian_attire', 'data_split', split_ratio=0.8)\n"
   ]
  },
  {
   "cell_type": "markdown",
   "id": "404808ac",
   "metadata": {},
   "source": [
    "### Step 3: Defining Augmentation and Transforms"
   ]
  },
  {
   "cell_type": "code",
   "execution_count": 2,
   "id": "e3ea02d1",
   "metadata": {},
   "outputs": [],
   "source": [
    "from torchvision import transforms\n",
    "\n",
    "train_transforms = transforms.Compose([\n",
    "    transforms.Resize((224, 224)),\n",
    "    transforms.RandomHorizontalFlip(),\n",
    "    transforms.RandomRotation(20),\n",
    "    transforms.ColorJitter(brightness=0.2, contrast=0.2, saturation=0.2),\n",
    "    transforms.RandomAffine(degrees=15, translate=(0.05, 0.05)),\n",
    "    transforms.ToTensor(),\n",
    "    transforms.Normalize(mean=[0.485, 0.456, 0.406],\n",
    "                         std=[0.229, 0.224, 0.225])\n",
    "])\n",
    "\n",
    "val_transforms = transforms.Compose([\n",
    "    transforms.Resize((224, 224)),\n",
    "    transforms.ToTensor(),\n",
    "    transforms.Normalize(mean=[0.485, 0.456, 0.406],\n",
    "                         std=[0.229, 0.224, 0.225])\n",
    "])\n"
   ]
  },
  {
   "cell_type": "markdown",
   "id": "7c60863a",
   "metadata": {},
   "source": [
    "### Step 4: Loading Data With PyTorch Dataloaders\n"
   ]
  },
  {
   "cell_type": "code",
   "execution_count": 3,
   "id": "4fc5d72b",
   "metadata": {},
   "outputs": [],
   "source": [
    "from torchvision.datasets import ImageFolder\n",
    "from torch.utils.data import DataLoader\n",
    "\n",
    "train_data = ImageFolder('data_split/train', transform=train_transforms)\n",
    "val_data = ImageFolder('data_split/val', transform=val_transforms)\n",
    "\n",
    "train_loader = DataLoader(train_data, batch_size=16, shuffle=True)\n",
    "val_loader = DataLoader(val_data, batch_size=16, shuffle=False)\n"
   ]
  },
  {
   "cell_type": "code",
   "execution_count": null,
   "id": "1ab69e99",
   "metadata": {},
   "outputs": [],
   "source": []
  }
 ],
 "metadata": {
  "kernelspec": {
   "display_name": "deep_learning",
   "language": "python",
   "name": "python3"
  },
  "language_info": {
   "codemirror_mode": {
    "name": "ipython",
    "version": 3
   },
   "file_extension": ".py",
   "mimetype": "text/x-python",
   "name": "python",
   "nbconvert_exporter": "python",
   "pygments_lexer": "ipython3",
   "version": "3.12.8"
  }
 },
 "nbformat": 4,
 "nbformat_minor": 5
}
